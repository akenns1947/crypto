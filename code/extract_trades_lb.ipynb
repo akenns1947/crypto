{
 "cells": [
  {
   "cell_type": "code",
   "execution_count": 2,
   "metadata": {
    "pycharm": {
     "name": "#%%\n"
    },
    "tags": []
   },
   "outputs": [],
   "source": [
    "import requests\n",
    "import json\n",
    "import pandas as pd\n",
    "import random\n",
    "import time\n",
    "from datetime import datetime\n",
    "from timeit import default_timer as timer\n",
    "from requests_ip_rotator import ApiGateway, EXTRA_REGIONS, ALL_REGIONS"
   ]
  },
  {
   "cell_type": "markdown",
   "metadata": {},
   "source": [
    "## Functions"
   ]
  },
  {
   "cell_type": "code",
   "execution_count": 19,
   "metadata": {
    "collapsed": false,
    "jupyter": {
     "outputs_hidden": false
    },
    "pycharm": {
     "name": "#%%\n"
    }
   },
   "outputs": [],
   "source": [
    "#Better readability for JSON output\n",
    "def jprint(obj):\n",
    "    text = json.dumps(obj, sort_keys=True, indent = 4)\n",
    "    print(text)\n",
    "    \n",
    "def get_trades(tid_start, tid_end, currency):\n",
    "    \n",
    "    import time\n",
    "    if tid_start >= tid_end: #make sure valid starting and ending values provided\n",
    "        tid = tid_start #initialize 'tid' to starting value\n",
    "        tmp_list = [] #temp list to hold dfs from loop\n",
    "        trades = pd.DataFrame() #final df of trades\n",
    "        i = 0 #while-loop counter for sleep function\n",
    "        \n",
    "        gateway = ApiGateway(\"https://localbitcoins.com\", regions = [\"us-west-2\"]) #Use ApiGateway from requests_ip_rotator to randomize IP used for requests to avoid rate limiting\n",
    "        gateway.start() #open gateway, always shutdown as well\n",
    "\n",
    "        session = requests.Session() #begin session\n",
    "        session.mount(\"https://localbitcoins.com\", gateway)\n",
    "\n",
    "        \n",
    "        try:\n",
    "            while (tid >= tid_end):\n",
    "                \n",
    "                parameters = {\n",
    "                    'max_tid': tid #passes current value of 'tid' as a parameter into the API request\n",
    "                }\n",
    "\n",
    "                url = 'https://localbitcoins.com/bitcoincharts/' + str(currency) + '/trades.json'\n",
    "\n",
    "                t = session.get(url, params = parameters) #pull last 500 trades, starting with max_tid\n",
    "                \n",
    "                if len(t.json()) > 0: #if request returns nothing, avoids an error\n",
    "                    t.raise_for_status() #Returns HTTP error object\n",
    "                    df = pd.DataFrame(t.json()) #get JSON output into pd DataFrame\n",
    "                    tmp_list.append(df.iloc[:-1]) #append to temp list, omits last row to avoid repeat obs\n",
    "\n",
    "                    tid_last = df['tid'].iloc[-1] #gets the last tid of the previous dataset, new starting point for next loop\n",
    "                    tid = tid_last\n",
    "                    time.sleep(1 + (random.randint(0, 1000) / 1000))#sleep function to avoid API errors, this one moderates time between API requests\n",
    "                    i += 1 #loop counter\n",
    "\n",
    "                    if i%500 == 0: #only for multiples of 500 (get API error around 800 without IP randomization)\n",
    "                        # time.sleep(1200) #sleep for 20 minutes\n",
    "                        print('congrats! you have made ' + str(i) + ' API requests, you insane person.')\n",
    "                else:\n",
    "                    gateway.shutdown()\n",
    "                    return None\n",
    "\n",
    "                \n",
    "                \n",
    "                \n",
    "        except Exception as e:\n",
    "            gateway.shutdown()\n",
    "            print(t.status_code)\n",
    "            print(e.response.text)\n",
    "            print(tid)\n",
    "            trades = pd.concat(tmp_list, ignore_index=True) #concatinate all DFs in temp list into one dataframe\n",
    "            trades['Currency'] = str(currency) #append the currency to a column\n",
    "            return trades\n",
    "        \n",
    "        else:\n",
    "            gateway.shutdown()\n",
    "            trades = pd.concat(tmp_list, ignore_index=True) #concatinate all DFs in temp list into one dataframe\n",
    "            trades['Currency'] = str(currency) #append the currency to a column\n",
    "            return trades\n",
    "\n",
    "    else:\n",
    "        print('Please enter a value for tid_start that is greater than tid_end')"
   ]
  },
  {
   "cell_type": "markdown",
   "metadata": {},
   "source": [
    "## Get list of currencies"
   ]
  },
  {
   "cell_type": "code",
   "execution_count": 4,
   "metadata": {
    "tags": []
   },
   "outputs": [],
   "source": [
    "altcoin = []\n",
    "name = []\n",
    "\n",
    "u = \"https://localbitcoins.com/api/currencies/\"\n",
    "c = requests.get(u)\n",
    "d = c.json()['data']['currencies'] #get to higher level of nesting\n",
    "symbols = list(d.keys()) #get currency symbols\n",
    "\n",
    "for currency in d:\n",
    "    altcoin.append(d[str(currency)]['altcoin'])\n",
    "    name.append(d[str(currency)]['name'])\n",
    "    \n",
    "currencies = pd.DataFrame(zip(symbols, name, altcoin), columns = ['symbol', 'currency', 'altcoin'])"
   ]
  },
  {
   "cell_type": "code",
   "execution_count": 6,
   "metadata": {
    "collapsed": true,
    "jupyter": {
     "outputs_hidden": true
    },
    "tags": []
   },
   "outputs": [
    {
     "data": {
      "text/plain": [
       "['AED',\n",
       " 'AFN',\n",
       " 'ALL',\n",
       " 'AMD',\n",
       " 'ANG',\n",
       " 'AOA',\n",
       " 'ARS',\n",
       " 'AUD',\n",
       " 'AWG',\n",
       " 'AZN',\n",
       " 'BAM',\n",
       " 'BBD',\n",
       " 'BDT',\n",
       " 'BGN',\n",
       " 'BHD',\n",
       " 'BIF',\n",
       " 'BMD',\n",
       " 'BND',\n",
       " 'BOB',\n",
       " 'BRL',\n",
       " 'BSD',\n",
       " 'BTN',\n",
       " 'BWP',\n",
       " 'BYN',\n",
       " 'BZD',\n",
       " 'CAD',\n",
       " 'CDF',\n",
       " 'CHF',\n",
       " 'CLF',\n",
       " 'CLP',\n",
       " 'CNH',\n",
       " 'CNY',\n",
       " 'COP',\n",
       " 'CRC',\n",
       " 'CUC',\n",
       " 'CUP',\n",
       " 'CVE',\n",
       " 'CZK',\n",
       " 'DJF',\n",
       " 'DKK',\n",
       " 'DOP',\n",
       " 'DZD',\n",
       " 'EGP',\n",
       " 'ERN',\n",
       " 'ETB',\n",
       " 'EUR',\n",
       " 'FJD',\n",
       " 'FKP',\n",
       " 'GBP',\n",
       " 'GEL',\n",
       " 'GGP',\n",
       " 'GHS',\n",
       " 'GIP',\n",
       " 'GMD',\n",
       " 'GNF',\n",
       " 'GTQ',\n",
       " 'GYD',\n",
       " 'HKD',\n",
       " 'HNL',\n",
       " 'HRK',\n",
       " 'HTG',\n",
       " 'HUF',\n",
       " 'IDR',\n",
       " 'ILS',\n",
       " 'IMP',\n",
       " 'INR',\n",
       " 'IQD',\n",
       " 'IRR',\n",
       " 'ISK',\n",
       " 'JEP',\n",
       " 'JMD',\n",
       " 'JOD',\n",
       " 'JPY',\n",
       " 'KES',\n",
       " 'KGS',\n",
       " 'KHR',\n",
       " 'KMF',\n",
       " 'KPW',\n",
       " 'KRW',\n",
       " 'KWD',\n",
       " 'KYD',\n",
       " 'KZT',\n",
       " 'LAK',\n",
       " 'LBP',\n",
       " 'LKR',\n",
       " 'LRD',\n",
       " 'LSL',\n",
       " 'LYD',\n",
       " 'MAD',\n",
       " 'MDL',\n",
       " 'MGA',\n",
       " 'MKD',\n",
       " 'MMK',\n",
       " 'MNT',\n",
       " 'MOP',\n",
       " 'MRU',\n",
       " 'MUR',\n",
       " 'MVR',\n",
       " 'MWK',\n",
       " 'MXN',\n",
       " 'MYR',\n",
       " 'MZN',\n",
       " 'NAD',\n",
       " 'NGN',\n",
       " 'NIO',\n",
       " 'NOK',\n",
       " 'NPR',\n",
       " 'NZD',\n",
       " 'OMR',\n",
       " 'PAB',\n",
       " 'PEN',\n",
       " 'PGK',\n",
       " 'PHP',\n",
       " 'PKR',\n",
       " 'PLN',\n",
       " 'PYG',\n",
       " 'QAR',\n",
       " 'RON',\n",
       " 'RSD',\n",
       " 'RUB',\n",
       " 'RWF',\n",
       " 'SAR',\n",
       " 'SBD',\n",
       " 'SCR',\n",
       " 'SDG',\n",
       " 'SEK',\n",
       " 'SGD',\n",
       " 'SHP',\n",
       " 'SLL',\n",
       " 'SOS',\n",
       " 'SRD',\n",
       " 'SSP',\n",
       " 'STN',\n",
       " 'SVC',\n",
       " 'SYP',\n",
       " 'SZL',\n",
       " 'THB',\n",
       " 'TJS',\n",
       " 'TMT',\n",
       " 'TND',\n",
       " 'TOP',\n",
       " 'TRY',\n",
       " 'TTD',\n",
       " 'TWD',\n",
       " 'TZS',\n",
       " 'UAH',\n",
       " 'UGX',\n",
       " 'USD',\n",
       " 'UYU',\n",
       " 'UZS',\n",
       " 'VED',\n",
       " 'VND',\n",
       " 'VUV',\n",
       " 'WST',\n",
       " 'XAF',\n",
       " 'XAG',\n",
       " 'XAR',\n",
       " 'XAU',\n",
       " 'XCD',\n",
       " 'XDR',\n",
       " 'XOF',\n",
       " 'XPD',\n",
       " 'XPF',\n",
       " 'XPT',\n",
       " 'YER',\n",
       " 'ZAR',\n",
       " 'ZMW',\n",
       " 'ZWL']"
      ]
     },
     "execution_count": 6,
     "metadata": {},
     "output_type": "execute_result"
    }
   ],
   "source": [
    "symbols"
   ]
  },
  {
   "cell_type": "code",
   "execution_count": null,
   "metadata": {
    "pycharm": {
     "name": "#%%\n"
    },
    "tags": []
   },
   "outputs": [
    {
     "name": "stdout",
     "output_type": "stream",
     "text": [
      "AED\n",
      "Starting API gateway in 1 regions.\n",
      "Using 1 endpoints with name 'https://localbitcoins.com - IP Rotate API' (1 new).\n",
      "Deleting gateway for site 'https://localbitcoins.com'.\n",
      "Deleted 1 endpoints with for site 'https://localbitcoins.com'.\n",
      "131.43987610000113\n",
      "AFN\n",
      "Starting API gateway in 1 regions.\n",
      "Using 1 endpoints with name 'https://localbitcoins.com - IP Rotate API' (1 new).\n",
      "Deleting gateway for site 'https://localbitcoins.com'.\n",
      "Deleted 1 endpoints with for site 'https://localbitcoins.com'.\n",
      "4.995046899999579\n",
      "ALL\n",
      "Starting API gateway in 1 regions.\n",
      "Using 1 endpoints with name 'https://localbitcoins.com - IP Rotate API' (1 new).\n",
      "congrats! you have made 500 API requests, you insane person.\n"
     ]
    }
   ],
   "source": [
    "currencies_not_included = ['USD'] #Which symbols to not run\n",
    "symbols = list(currencies['symbol'][currencies['altcoin'] == False]) #Remove other cryptocurrencies\n",
    "symbols = [e for e in symbols if e not in currencies_not_included] #Remove symbols not to run\n",
    "start_tid = 56510558\n",
    "end_tid = 6000000 #6000000 corresponds to Feb 2017\n",
    "\n",
    "\n",
    "\n",
    "for currency in symbols:\n",
    "\n",
    "    print(currency)\n",
    "    start = timer()\n",
    "\n",
    "    df = get_trades(start_tid, end_tid, currency)\n",
    "    path = '../temporary/trades_' + str(currency) + '.csv'\n",
    "    end = timer()\n",
    "    time = end - start\n",
    "    print(time)\n",
    "    \n",
    "    if df is not None:\n",
    "        df.to_csv(path, index = False)"
   ]
  },
  {
   "cell_type": "code",
   "execution_count": 7,
   "metadata": {},
   "outputs": [
    {
     "data": {
      "text/html": [
       "<div>\n",
       "<style scoped>\n",
       "    .dataframe tbody tr th:only-of-type {\n",
       "        vertical-align: middle;\n",
       "    }\n",
       "\n",
       "    .dataframe tbody tr th {\n",
       "        vertical-align: top;\n",
       "    }\n",
       "\n",
       "    .dataframe thead th {\n",
       "        text-align: right;\n",
       "    }\n",
       "</style>\n",
       "<table border=\"1\" class=\"dataframe\">\n",
       "  <thead>\n",
       "    <tr style=\"text-align: right;\">\n",
       "      <th></th>\n",
       "      <th>date</th>\n",
       "      <th>tid</th>\n",
       "      <th>price</th>\n",
       "      <th>amount</th>\n",
       "      <th>Currency</th>\n",
       "    </tr>\n",
       "  </thead>\n",
       "  <tbody>\n",
       "    <tr>\n",
       "      <th>0</th>\n",
       "      <td>1664330110</td>\n",
       "      <td>56510558</td>\n",
       "      <td>18029.58</td>\n",
       "      <td>0.03189204</td>\n",
       "      <td>USD</td>\n",
       "    </tr>\n",
       "    <tr>\n",
       "      <th>1</th>\n",
       "      <td>1664330110</td>\n",
       "      <td>56510556</td>\n",
       "      <td>21699.47</td>\n",
       "      <td>0.00553009</td>\n",
       "      <td>USD</td>\n",
       "    </tr>\n",
       "    <tr>\n",
       "      <th>2</th>\n",
       "      <td>1664330222</td>\n",
       "      <td>56510553</td>\n",
       "      <td>20045.22</td>\n",
       "      <td>0.00249436</td>\n",
       "      <td>USD</td>\n",
       "    </tr>\n",
       "    <tr>\n",
       "      <th>3</th>\n",
       "      <td>1664329958</td>\n",
       "      <td>56510549</td>\n",
       "      <td>18550.49</td>\n",
       "      <td>0.00307000</td>\n",
       "      <td>USD</td>\n",
       "    </tr>\n",
       "    <tr>\n",
       "      <th>4</th>\n",
       "      <td>1664330004</td>\n",
       "      <td>56510546</td>\n",
       "      <td>20549.77</td>\n",
       "      <td>0.00291974</td>\n",
       "      <td>USD</td>\n",
       "    </tr>\n",
       "    <tr>\n",
       "      <th>...</th>\n",
       "      <td>...</td>\n",
       "      <td>...</td>\n",
       "      <td>...</td>\n",
       "      <td>...</td>\n",
       "      <td>...</td>\n",
       "    </tr>\n",
       "    <tr>\n",
       "      <th>3427626</th>\n",
       "      <td>1487825175</td>\n",
       "      <td>5999834</td>\n",
       "      <td>1276.60</td>\n",
       "      <td>0.02350000</td>\n",
       "      <td>USD</td>\n",
       "    </tr>\n",
       "    <tr>\n",
       "      <th>3427627</th>\n",
       "      <td>1487825822</td>\n",
       "      <td>5999831</td>\n",
       "      <td>2478.31</td>\n",
       "      <td>0.32280000</td>\n",
       "      <td>USD</td>\n",
       "    </tr>\n",
       "    <tr>\n",
       "      <th>3427628</th>\n",
       "      <td>1487825126</td>\n",
       "      <td>5999830</td>\n",
       "      <td>1438.85</td>\n",
       "      <td>0.02780000</td>\n",
       "      <td>USD</td>\n",
       "    </tr>\n",
       "    <tr>\n",
       "      <th>3427629</th>\n",
       "      <td>1487825394</td>\n",
       "      <td>5999827</td>\n",
       "      <td>1490.51</td>\n",
       "      <td>0.03690000</td>\n",
       "      <td>USD</td>\n",
       "    </tr>\n",
       "    <tr>\n",
       "      <th>3427630</th>\n",
       "      <td>1487825675</td>\n",
       "      <td>5999825</td>\n",
       "      <td>1116.36</td>\n",
       "      <td>4.38210000</td>\n",
       "      <td>USD</td>\n",
       "    </tr>\n",
       "  </tbody>\n",
       "</table>\n",
       "<p>3427631 rows × 5 columns</p>\n",
       "</div>"
      ],
      "text/plain": [
       "               date       tid     price      amount Currency\n",
       "0        1664330110  56510558  18029.58  0.03189204      USD\n",
       "1        1664330110  56510556  21699.47  0.00553009      USD\n",
       "2        1664330222  56510553  20045.22  0.00249436      USD\n",
       "3        1664329958  56510549  18550.49  0.00307000      USD\n",
       "4        1664330004  56510546  20549.77  0.00291974      USD\n",
       "...             ...       ...       ...         ...      ...\n",
       "3427626  1487825175   5999834   1276.60  0.02350000      USD\n",
       "3427627  1487825822   5999831   2478.31  0.32280000      USD\n",
       "3427628  1487825126   5999830   1438.85  0.02780000      USD\n",
       "3427629  1487825394   5999827   1490.51  0.03690000      USD\n",
       "3427630  1487825675   5999825   1116.36  4.38210000      USD\n",
       "\n",
       "[3427631 rows x 5 columns]"
      ]
     },
     "execution_count": 7,
     "metadata": {},
     "output_type": "execute_result"
    }
   ],
   "source": [
    "df"
   ]
  },
  {
   "cell_type": "code",
   "execution_count": 5,
   "metadata": {
    "collapsed": false,
    "jupyter": {
     "outputs_hidden": false
    },
    "pycharm": {
     "name": "#%%\n"
    }
   },
   "outputs": [
    {
     "data": {
      "text/plain": [
       "datetime.datetime(2022, 9, 25, 11, 36, 8)"
      ]
     },
     "execution_count": 5,
     "metadata": {},
     "output_type": "execute_result"
    }
   ],
   "source": [
    "datetime.fromtimestamp(1664127368)"
   ]
  },
  {
   "cell_type": "code",
   "execution_count": 7,
   "metadata": {
    "pycharm": {
     "name": "#%%\n"
    },
    "tags": []
   },
   "outputs": [
    {
     "name": "stdout",
     "output_type": "stream",
     "text": [
      "[]\n"
     ]
    }
   ],
   "source": [
    "#See most recent trades\n",
    "t = requests.get('https://localbitcoins.com/bitcoincharts/BTN/trades.json')\n",
    "jprint(t.json())"
   ]
  },
  {
   "cell_type": "code",
   "execution_count": 9,
   "metadata": {},
   "outputs": [
    {
     "data": {
      "text/plain": [
       "0"
      ]
     },
     "execution_count": 9,
     "metadata": {},
     "output_type": "execute_result"
    }
   ],
   "source": [
    "len(t.json())"
   ]
  }
 ],
 "metadata": {
  "kernelspec": {
   "display_name": "Python 3 (ipykernel)",
   "language": "python",
   "name": "python3"
  },
  "language_info": {
   "codemirror_mode": {
    "name": "ipython",
    "version": 3
   },
   "file_extension": ".py",
   "mimetype": "text/x-python",
   "name": "python",
   "nbconvert_exporter": "python",
   "pygments_lexer": "ipython3",
   "version": "3.8.13"
  }
 },
 "nbformat": 4,
 "nbformat_minor": 4
}
