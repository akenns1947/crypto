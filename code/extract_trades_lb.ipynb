{
 "cells": [
  {
   "cell_type": "code",
   "execution_count": 31,
   "metadata": {
    "collapsed": true,
    "pycharm": {
     "name": "#%%\n"
    }
   },
   "outputs": [],
   "source": [
    "import requests\n",
    "import json\n",
    "import pandas\n",
    "from datetime import datetime"
   ]
  },
  {
   "cell_type": "code",
   "execution_count": 29,
   "outputs": [],
   "source": [
    "#Better readability for JSON output\n",
    "def jprint(obj):\n",
    "    text = json.dumps(obj, sort_keys=True, indent = 4)\n",
    "    print(text)"
   ],
   "metadata": {
    "collapsed": false,
    "pycharm": {
     "name": "#%%\n"
    }
   }
  },
  {
   "cell_type": "code",
   "execution_count": 42,
   "outputs": [
    {
     "data": {
      "text/plain": "           date      tid    price      amount\n0    1490908408  6499998  1094.56  0.27406446\n1    1490908236  6499996  1104.88  1.26710593\n2    1490908418  6499993  1122.48  0.76972418\n3    1490907801  6499992  1108.86  0.33367603\n4    1490908060  6499989  1294.94  0.10811312\n..          ...      ...      ...         ...\n495  1490901054  6498509  1365.00  0.07326007\n496  1490900617  6498507  2445.00  0.20449898\n497  1490901135  6498503  1703.71  0.29347718\n498  1490900573  6498492  1364.00  0.03665689\n499  1490900503  6498491  1412.47  0.01061969\n\n[500 rows x 4 columns]",
      "text/html": "<div>\n<style scoped>\n    .dataframe tbody tr th:only-of-type {\n        vertical-align: middle;\n    }\n\n    .dataframe tbody tr th {\n        vertical-align: top;\n    }\n\n    .dataframe thead th {\n        text-align: right;\n    }\n</style>\n<table border=\"1\" class=\"dataframe\">\n  <thead>\n    <tr style=\"text-align: right;\">\n      <th></th>\n      <th>date</th>\n      <th>tid</th>\n      <th>price</th>\n      <th>amount</th>\n    </tr>\n  </thead>\n  <tbody>\n    <tr>\n      <th>0</th>\n      <td>1490908408</td>\n      <td>6499998</td>\n      <td>1094.56</td>\n      <td>0.27406446</td>\n    </tr>\n    <tr>\n      <th>1</th>\n      <td>1490908236</td>\n      <td>6499996</td>\n      <td>1104.88</td>\n      <td>1.26710593</td>\n    </tr>\n    <tr>\n      <th>2</th>\n      <td>1490908418</td>\n      <td>6499993</td>\n      <td>1122.48</td>\n      <td>0.76972418</td>\n    </tr>\n    <tr>\n      <th>3</th>\n      <td>1490907801</td>\n      <td>6499992</td>\n      <td>1108.86</td>\n      <td>0.33367603</td>\n    </tr>\n    <tr>\n      <th>4</th>\n      <td>1490908060</td>\n      <td>6499989</td>\n      <td>1294.94</td>\n      <td>0.10811312</td>\n    </tr>\n    <tr>\n      <th>...</th>\n      <td>...</td>\n      <td>...</td>\n      <td>...</td>\n      <td>...</td>\n    </tr>\n    <tr>\n      <th>495</th>\n      <td>1490901054</td>\n      <td>6498509</td>\n      <td>1365.00</td>\n      <td>0.07326007</td>\n    </tr>\n    <tr>\n      <th>496</th>\n      <td>1490900617</td>\n      <td>6498507</td>\n      <td>2445.00</td>\n      <td>0.20449898</td>\n    </tr>\n    <tr>\n      <th>497</th>\n      <td>1490901135</td>\n      <td>6498503</td>\n      <td>1703.71</td>\n      <td>0.29347718</td>\n    </tr>\n    <tr>\n      <th>498</th>\n      <td>1490900573</td>\n      <td>6498492</td>\n      <td>1364.00</td>\n      <td>0.03665689</td>\n    </tr>\n    <tr>\n      <th>499</th>\n      <td>1490900503</td>\n      <td>6498491</td>\n      <td>1412.47</td>\n      <td>0.01061969</td>\n    </tr>\n  </tbody>\n</table>\n<p>500 rows × 4 columns</p>\n</div>"
     },
     "execution_count": 42,
     "metadata": {},
     "output_type": "execute_result"
    }
   ],
   "source": [
    "#parameters for api request\n",
    "parameters = {\n",
    "    \"max_tid\":6500000\n",
    "}\n",
    "trades = requests.get(\"https://localbitcoins.com/bitcoincharts/USD/trades.json\", params=parameters) #pulls the last 500 trades\n",
    "df = pd.DataFrame(trades.json())\n",
    "df"
   ],
   "metadata": {
    "collapsed": false,
    "pycharm": {
     "name": "#%%\n"
    }
   }
  },
  {
   "cell_type": "code",
   "execution_count": null,
   "outputs": [],
   "source": [
    "datetime.fromtimestamp(1490900503)"
   ],
   "metadata": {
    "collapsed": false,
    "pycharm": {
     "name": "#%%\n"
    }
   }
  },
  {
   "cell_type": "code",
   "execution_count": 40,
   "outputs": [
    {
     "data": {
      "text/plain": "requests.models.Response"
     },
     "execution_count": 40,
     "metadata": {},
     "output_type": "execute_result"
    }
   ],
   "source": [
    "type(trades)"
   ],
   "metadata": {
    "collapsed": false,
    "pycharm": {
     "name": "#%%\n"
    }
   }
  }
 ],
 "metadata": {
  "kernelspec": {
   "display_name": "Python 3",
   "language": "python",
   "name": "python3"
  },
  "language_info": {
   "codemirror_mode": {
    "name": "ipython",
    "version": 2
   },
   "file_extension": ".py",
   "mimetype": "text/x-python",
   "name": "python",
   "nbconvert_exporter": "python",
   "pygments_lexer": "ipython2",
   "version": "2.7.6"
  }
 },
 "nbformat": 4,
 "nbformat_minor": 0
}