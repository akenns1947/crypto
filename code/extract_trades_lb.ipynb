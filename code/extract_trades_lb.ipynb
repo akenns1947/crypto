{
 "cells": [
  {
   "cell_type": "code",
   "execution_count": 1,
   "metadata": {
    "pycharm": {
     "name": "#%%\n"
    },
    "tags": []
   },
   "outputs": [],
   "source": [
    "import requests\n",
    "import json\n",
    "import pandas as pd\n",
    "import random\n",
    "import time\n",
    "from datetime import datetime\n",
    "from timeit import default_timer as timer\n",
    "from requests_ip_rotator import ApiGateway, EXTRA_REGIONS, ALL_REGIONS"
   ]
  },
  {
   "cell_type": "markdown",
   "metadata": {},
   "source": [
    "## Functions"
   ]
  },
  {
   "cell_type": "code",
   "execution_count": 2,
   "metadata": {
    "collapsed": false,
    "jupyter": {
     "outputs_hidden": false
    },
    "pycharm": {
     "name": "#%%\n"
    }
   },
   "outputs": [],
   "source": [
    "#Better readability for JSON output\n",
    "def jprint(obj):\n",
    "    text = json.dumps(obj, sort_keys=True, indent = 4)\n",
    "    print(text)\n",
    "    \n",
    "def get_trades(tid_start, tid_end, currency):\n",
    "    \n",
    "    import time\n",
    "    if tid_start >= tid_end: #make sure valid starting and ending values provided\n",
    "        tid = 0\n",
    "        tid = tid_start #initialize 'tid' to starting value\n",
    "        tmp_list = [] #temp list to hold dfs from loop\n",
    "        trades = pd.DataFrame() #final df of trades\n",
    "        i = 0 #while-loop counter for sleep function\n",
    "        \n",
    "        gateway = ApiGateway(\"https://localbitcoins.com\", regions = [\"us-west-2\"]) #Use ApiGateway from requests_ip_rotator to randomize IP used for requests to avoid rate limiting\n",
    "        gateway.start() #open gateway, always shutdown as well\n",
    "\n",
    "        session = requests.Session() #begin session\n",
    "        session.mount(\"https://localbitcoins.com\", gateway)\n",
    "\n",
    "        \n",
    "        try:\n",
    "            while (tid >= tid_end):\n",
    "                \n",
    "                parameters = {\n",
    "                    'max_tid': tid #passes current value of 'tid' as a parameter into the API request\n",
    "                }\n",
    "\n",
    "                url = 'https://localbitcoins.com/bitcoincharts/' + str(currency) + '/trades.json'\n",
    "\n",
    "                t = session.get(url, params = parameters) #pull last 500 trades, starting with max_tid\n",
    "                t.raise_for_status() #Returns HTTP error object if error occurs\n",
    "\n",
    "                if len(t.json()) > 0: #if request returns nothing, avoids an error\n",
    "                    df = pd.DataFrame(t.json()) #get JSON output into pd DataFrame\n",
    "                    tmp_list.append(df.iloc[:-1]) #append to temp list, omits last row to avoid repeat obs\n",
    "\n",
    "                    tid_last = df['tid'].iloc[-1] #gets the last tid of the previous dataset, new starting point for next loop\n",
    "                    time.sleep(1 + (random.randint(0, 1000) / 1000))#sleep function to avoid API errors, this one moderates time between API requests\n",
    "                    i += 1 #loop counter\n",
    "                    \n",
    "                    if tid != tid_last:\n",
    "                        tid = tid_last\n",
    "                    else:\n",
    "                        raise ValueError('Got furthest back you could')\n",
    "                    \n",
    "                    if i%50 == 0:#multiples of 50\n",
    "                        print(tid)\n",
    "                        \n",
    "                        \n",
    "\n",
    "                    if i%500 == 0: #only for multiples of 500 (get API error around 800 without IP randomization)\n",
    "                        # time.sleep(1200) #sleep for 20 minutes\n",
    "                        print('congrats! you have made ' + str(i) + ' API requests, you insane person.')\n",
    "                        # print(tid)\n",
    "                else:\n",
    "                    gateway.shutdown()\n",
    "                    return None\n",
    "\n",
    "        except ValueError as err:\n",
    "            gateway.shutdown()\n",
    "            print(err)\n",
    "            trades = pd.concat(tmp_list, ignore_index=True) #concatinate all DFs in temp list into one dataframe\n",
    "            trades['Currency'] = str(currency) #append the currency to a column\n",
    "            return trades                \n",
    "                \n",
    "                \n",
    "        except Exception as e:\n",
    "            gateway.shutdown()\n",
    "            print(t.status_code)\n",
    "            print(e.response.text)\n",
    "            print(tid)\n",
    "            trades = pd.concat(tmp_list, ignore_index=True) #concatinate all DFs in temp list into one dataframe\n",
    "            trades['Currency'] = str(currency) #append the currency to a column\n",
    "            return trades\n",
    "        \n",
    "        except KeyboardInterrupt:\n",
    "            gateway.shutdown()\n",
    "            print(tid)\n",
    "            trades = pd.concat(tmp_list, ignore_index=True) #concatinate all DFs in temp list into one dataframe\n",
    "            trades['Currency'] = str(currency) #append the currency to a column\n",
    "            return trades\n",
    "        \n",
    "\n",
    "            \n",
    "        \n",
    "        else:\n",
    "            gateway.shutdown()\n",
    "            trades = pd.concat(tmp_list, ignore_index=True) #concatinate all DFs in temp list into one dataframe\n",
    "            trades['Currency'] = str(currency) #append the currency to a column\n",
    "            return trades\n",
    "\n",
    "    else:\n",
    "        print('Please enter a value for tid_start that is greater than tid_end')"
   ]
  },
  {
   "cell_type": "markdown",
   "metadata": {},
   "source": [
    "## Get list of currencies"
   ]
  },
  {
   "cell_type": "code",
   "execution_count": 3,
   "metadata": {
    "tags": []
   },
   "outputs": [],
   "source": [
    "altcoin = []\n",
    "name = []\n",
    "\n",
    "u = \"https://localbitcoins.com/api/currencies/\"\n",
    "c = requests.get(u)\n",
    "d = c.json()['data']['currencies'] #get to higher level of nesting\n",
    "symbols = list(d.keys()) #get currency symbols\n",
    "\n",
    "for currency in d:\n",
    "    altcoin.append(d[str(currency)]['altcoin'])\n",
    "    name.append(d[str(currency)]['name'])\n",
    "    \n",
    "currencies = pd.DataFrame(zip(symbols, name, altcoin), columns = ['symbol', 'currency', 'altcoin'])"
   ]
  },
  {
   "cell_type": "code",
   "execution_count": 5,
   "metadata": {
    "collapsed": true,
    "jupyter": {
     "outputs_hidden": true
    },
    "tags": []
   },
   "outputs": [
    {
     "data": {
      "text/plain": [
       "['ADA',\n",
       " 'AED',\n",
       " 'AFN',\n",
       " 'ALL',\n",
       " 'AMD',\n",
       " 'ANG',\n",
       " 'AOA',\n",
       " 'ARS',\n",
       " 'AUD',\n",
       " 'AWG',\n",
       " 'AXS',\n",
       " 'AZN',\n",
       " 'BAM',\n",
       " 'BBD',\n",
       " 'BCH',\n",
       " 'BDT',\n",
       " 'BGN',\n",
       " 'BHD',\n",
       " 'BIF',\n",
       " 'BMD',\n",
       " 'BND',\n",
       " 'BOB',\n",
       " 'BRL',\n",
       " 'BSD',\n",
       " 'BTN',\n",
       " 'BWP',\n",
       " 'BYN',\n",
       " 'BZD',\n",
       " 'CAD',\n",
       " 'CDF',\n",
       " 'CHF',\n",
       " 'CLF',\n",
       " 'CLP',\n",
       " 'CNH',\n",
       " 'CNY',\n",
       " 'COP',\n",
       " 'CRC',\n",
       " 'CUC',\n",
       " 'CUP',\n",
       " 'CVE',\n",
       " 'CZK',\n",
       " 'DASH',\n",
       " 'DJF',\n",
       " 'DKK',\n",
       " 'DOGE',\n",
       " 'DOP',\n",
       " 'DOT',\n",
       " 'DZD',\n",
       " 'EGP',\n",
       " 'ERN',\n",
       " 'ETB',\n",
       " 'ETH',\n",
       " 'EUR',\n",
       " 'FJD',\n",
       " 'FKP',\n",
       " 'GBP',\n",
       " 'GEL',\n",
       " 'GGP',\n",
       " 'GHS',\n",
       " 'GIP',\n",
       " 'GMD',\n",
       " 'GNF',\n",
       " 'GTQ',\n",
       " 'GYD',\n",
       " 'HKD',\n",
       " 'HNL',\n",
       " 'HRK',\n",
       " 'HTG',\n",
       " 'HUF',\n",
       " 'IDR',\n",
       " 'ILS',\n",
       " 'IMP',\n",
       " 'INR',\n",
       " 'IQD',\n",
       " 'IRR',\n",
       " 'ISK',\n",
       " 'JEP',\n",
       " 'JMD',\n",
       " 'JOD',\n",
       " 'JPY',\n",
       " 'KES',\n",
       " 'KGS',\n",
       " 'KHR',\n",
       " 'KMF',\n",
       " 'KPW',\n",
       " 'KRW',\n",
       " 'KWD',\n",
       " 'KYD',\n",
       " 'KZT',\n",
       " 'LAK',\n",
       " 'LBP',\n",
       " 'LINK',\n",
       " 'LKR',\n",
       " 'LRD',\n",
       " 'LSL',\n",
       " 'LTC',\n",
       " 'LYD',\n",
       " 'MAD',\n",
       " 'MDL',\n",
       " 'MGA',\n",
       " 'MKD',\n",
       " 'MMK',\n",
       " 'MNT',\n",
       " 'MOP',\n",
       " 'MRU',\n",
       " 'MUR',\n",
       " 'MVR',\n",
       " 'MWK',\n",
       " 'MXN',\n",
       " 'MYR',\n",
       " 'MZN',\n",
       " 'NAD',\n",
       " 'NGN',\n",
       " 'NIO',\n",
       " 'NOK',\n",
       " 'NPR',\n",
       " 'NZD',\n",
       " 'OKB',\n",
       " 'OMR',\n",
       " 'PAB',\n",
       " 'PEN',\n",
       " 'PGK',\n",
       " 'PHP',\n",
       " 'PKR',\n",
       " 'PLN',\n",
       " 'PYG',\n",
       " 'QAR',\n",
       " 'RON',\n",
       " 'RSD',\n",
       " 'RUB',\n",
       " 'RWF',\n",
       " 'SAR',\n",
       " 'SBD',\n",
       " 'SCR',\n",
       " 'SDG',\n",
       " 'SEK',\n",
       " 'SGD',\n",
       " 'SHP',\n",
       " 'SLL',\n",
       " 'SLP',\n",
       " 'SOS',\n",
       " 'SRD',\n",
       " 'SSP',\n",
       " 'STN',\n",
       " 'SVC',\n",
       " 'SYP',\n",
       " 'SZL',\n",
       " 'THB',\n",
       " 'TJS',\n",
       " 'TMT',\n",
       " 'TND',\n",
       " 'TOP',\n",
       " 'TRY',\n",
       " 'TTD',\n",
       " 'TWD',\n",
       " 'TZS',\n",
       " 'UAH',\n",
       " 'UGX',\n",
       " 'USD',\n",
       " 'USDC',\n",
       " 'USDT',\n",
       " 'UYU',\n",
       " 'UZS',\n",
       " 'VED',\n",
       " 'VND',\n",
       " 'VUV',\n",
       " 'WST',\n",
       " 'XAF',\n",
       " 'XAG',\n",
       " 'XAR',\n",
       " 'XAU',\n",
       " 'XCD',\n",
       " 'XDR',\n",
       " 'XLM',\n",
       " 'XMR',\n",
       " 'XOF',\n",
       " 'XPD',\n",
       " 'XPF',\n",
       " 'XPT',\n",
       " 'XRP',\n",
       " 'XVG',\n",
       " 'YER',\n",
       " 'ZAR',\n",
       " 'ZMW',\n",
       " 'ZWL']"
      ]
     },
     "execution_count": 5,
     "metadata": {},
     "output_type": "execute_result"
    }
   ],
   "source": [
    "symbols"
   ]
  },
  {
   "cell_type": "code",
   "execution_count": null,
   "metadata": {
    "pycharm": {
     "name": "#%%\n"
    },
    "tags": []
   },
   "outputs": [
    {
     "name": "stdout",
     "output_type": "stream",
     "text": [
      "AED\n",
      "Starting API gateway in 1 regions.\n",
      "Using 1 endpoints with name 'https://localbitcoins.com - IP Rotate API' (0 new).\n",
      "12207101\n",
      "Deleting gateway for site 'https://localbitcoins.com'.\n",
      "Deleted 1 endpoints with for site 'https://localbitcoins.com'.\n",
      "129.5681436\n",
      "AFN\n",
      "Starting API gateway in 1 regions.\n",
      "Using 1 endpoints with name 'https://localbitcoins.com - IP Rotate API' (1 new).\n",
      "Deleting gateway for site 'https://localbitcoins.com'.\n",
      "Deleted 1 endpoints with for site 'https://localbitcoins.com'.\n",
      "5.553159500000021\n",
      "ALL\n",
      "Starting API gateway in 1 regions.\n",
      "Using 1 endpoints with name 'https://localbitcoins.com - IP Rotate API' (1 new).\n",
      "Deleting gateway for site 'https://localbitcoins.com'.\n",
      "Deleted 1 endpoints with for site 'https://localbitcoins.com'.\n",
      "Got furthest back you could\n",
      "7.790182500000014\n",
      "AMD\n",
      "Starting API gateway in 1 regions.\n",
      "Using 1 endpoints with name 'https://localbitcoins.com - IP Rotate API' (1 new).\n",
      "Deleting gateway for site 'https://localbitcoins.com'.\n",
      "Deleted 1 endpoints with for site 'https://localbitcoins.com'.\n",
      "Got furthest back you could\n",
      "6.745696600000002\n",
      "ANG\n",
      "Starting API gateway in 1 regions.\n",
      "Using 1 endpoints with name 'https://localbitcoins.com - IP Rotate API' (1 new).\n",
      "Deleting gateway for site 'https://localbitcoins.com'.\n",
      "Deleted 1 endpoints with for site 'https://localbitcoins.com'.\n",
      "Got furthest back you could\n",
      "6.298108499999984\n",
      "AOA\n",
      "Starting API gateway in 1 regions.\n",
      "Using 1 endpoints with name 'https://localbitcoins.com - IP Rotate API' (1 new).\n",
      "Deleting gateway for site 'https://localbitcoins.com'.\n",
      "Deleted 1 endpoints with for site 'https://localbitcoins.com'.\n",
      "14.29763539999999\n",
      "ARS\n",
      "Starting API gateway in 1 regions.\n",
      "Using 1 endpoints with name 'https://localbitcoins.com - IP Rotate API' (1 new).\n",
      "55323658\n",
      "54165332\n",
      "53049007\n",
      "51970368\n",
      "50649498\n",
      "49296835\n",
      "47975793\n",
      "46751648\n",
      "45445282\n"
     ]
    }
   ],
   "source": [
    "currencies_not_included = ['USD'] #Which symbols to not run, need to go back and get AMD and ANG\n",
    "symbols = list(currencies['symbol'][currencies['altcoin'] == False]) #Remove other cryptocurrencies\n",
    "symbols = [e for e in symbols if e not in currencies_not_included] #Remove symbols not to run\n",
    "start_tid = 56510558\n",
    "end_tid = 6000000 #6000000 corresponds to Feb 2017\n",
    "\n",
    "\n",
    "\n",
    "for currency in symbols:\n",
    "    \n",
    "    start_tid = 56510558\n",
    "    end_tid = 6000000 #6000000 corresponds to Feb 2017\n",
    "    print(currency)\n",
    "    start = timer()\n",
    "\n",
    "    df = get_trades(start_tid, end_tid, currency)\n",
    "    path = '../temporary/trades_' + str(currency) + '.csv'\n",
    "    end = timer()\n",
    "    time = end - start\n",
    "    print(time)\n",
    "    \n",
    "    if df is not None:\n",
    "        df.to_csv(path, index = False)"
   ]
  },
  {
   "cell_type": "code",
   "execution_count": 25,
   "metadata": {},
   "outputs": [
    {
     "ename": "NameError",
     "evalue": "name 'tmp_list' is not defined",
     "output_type": "error",
     "traceback": [
      "\u001b[1;31m---------------------------------------------------------------------------\u001b[0m",
      "\u001b[1;31mNameError\u001b[0m                                 Traceback (most recent call last)",
      "Cell \u001b[1;32mIn [25], line 1\u001b[0m\n\u001b[1;32m----> 1\u001b[0m \u001b[43mtmp_list\u001b[49m\n",
      "\u001b[1;31mNameError\u001b[0m: name 'tmp_list' is not defined"
     ]
    }
   ],
   "source": [
    "tmp_list"
   ]
  },
  {
   "cell_type": "code",
   "execution_count": 5,
   "metadata": {
    "collapsed": false,
    "jupyter": {
     "outputs_hidden": false
    },
    "pycharm": {
     "name": "#%%\n"
    }
   },
   "outputs": [
    {
     "data": {
      "text/plain": [
       "datetime.datetime(2022, 9, 25, 11, 36, 8)"
      ]
     },
     "execution_count": 5,
     "metadata": {},
     "output_type": "execute_result"
    }
   ],
   "source": [
    "datetime.fromtimestamp(1664127368)"
   ]
  },
  {
   "cell_type": "code",
   "execution_count": 7,
   "metadata": {
    "pycharm": {
     "name": "#%%\n"
    },
    "tags": []
   },
   "outputs": [
    {
     "name": "stdout",
     "output_type": "stream",
     "text": [
      "[]\n"
     ]
    }
   ],
   "source": [
    "#See most recent trades\n",
    "t = requests.get('https://localbitcoins.com/bitcoincharts/BTN/trades.json')\n",
    "jprint(t.json())"
   ]
  },
  {
   "cell_type": "code",
   "execution_count": 9,
   "metadata": {},
   "outputs": [
    {
     "data": {
      "text/plain": [
       "0"
      ]
     },
     "execution_count": 9,
     "metadata": {},
     "output_type": "execute_result"
    }
   ],
   "source": [
    "len(t.json())"
   ]
  }
 ],
 "metadata": {
  "kernelspec": {
   "display_name": "Python 3 (ipykernel)",
   "language": "python",
   "name": "python3"
  },
  "language_info": {
   "codemirror_mode": {
    "name": "ipython",
    "version": 3
   },
   "file_extension": ".py",
   "mimetype": "text/x-python",
   "name": "python",
   "nbconvert_exporter": "python",
   "pygments_lexer": "ipython3",
   "version": "3.8.13"
  }
 },
 "nbformat": 4,
 "nbformat_minor": 4
}
