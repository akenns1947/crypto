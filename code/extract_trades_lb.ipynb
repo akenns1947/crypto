{
 "cells": [
  {
   "cell_type": "code",
   "execution_count": 19,
   "metadata": {
    "pycharm": {
     "name": "#%%\n"
    },
    "tags": []
   },
   "outputs": [],
   "source": [
    "import requests\n",
    "import json\n",
    "import pandas as pd\n",
    "import random\n",
    "import time\n",
    "from datetime import datetime\n",
    "from timeit import default_timer as timer\n",
    "from requests_ip_rotator import ApiGateway, EXTRA_REGIONS, ALL_REGIONS\n",
    "import os\n",
    "from os.path import exists"
   ]
  },
  {
   "cell_type": "markdown",
   "metadata": {},
   "source": [
    "## Functions"
   ]
  },
  {
   "cell_type": "code",
   "execution_count": 29,
   "metadata": {
    "collapsed": false,
    "jupyter": {
     "outputs_hidden": false
    },
    "pycharm": {
     "name": "#%%\n"
    }
   },
   "outputs": [],
   "source": [
    "#Better readability for JSON output\n",
    "def jprint(obj):\n",
    "    text = json.dumps(obj, sort_keys=True, indent = 4)\n",
    "    print(text)\n",
    "    \n",
    "def get_trades(tid_start, tid_end, currency):\n",
    "    \n",
    "    import time\n",
    "    if tid_start >= tid_end: #make sure valid starting and ending values provided\n",
    "        tid = 0\n",
    "        tmp_list = [] #temp list to hold dfs from loop\n",
    "        trades = pd.DataFrame() #final df of trades\n",
    "        i = 0 #while-loop counter for sleep function\n",
    "        path = '../temporary/trades_' + str(currency) + '.csv'\n",
    "        exists = os.path.exists(path)\n",
    "        print(exists)\n",
    "        \n",
    "        if exists == True: #check if a file is already there, if so start where you left off\n",
    "            df = pd.read_csv(path)\n",
    "            tmp_list.append(df)\n",
    "            tid = df['tid'].iloc[-1]\n",
    "        else:\n",
    "            tid = tid_start #initialize 'tid' to starting value\n",
    "        \n",
    "        gateway = ApiGateway(\"https://localbitcoins.com\", regions = [\"us-west-2\"]) #Use ApiGateway from requests_ip_rotator to randomize IP used for requests to avoid rate limiting\n",
    "        gateway.start() #open gateway, always shutdown as well\n",
    "\n",
    "        session = requests.Session() #begin session\n",
    "        session.mount(\"https://localbitcoins.com\", gateway)\n",
    "\n",
    "        \n",
    "        try:\n",
    "            while (tid >= tid_end):\n",
    "                \n",
    "                parameters = {\n",
    "                    'max_tid': tid #passes current value of 'tid' as a parameter into the API request\n",
    "                }\n",
    "\n",
    "                url = 'https://localbitcoins.com/bitcoincharts/' + str(currency) + '/trades.json'\n",
    "\n",
    "                t = session.get(url, params = parameters) #pull last 500 trades, starting with max_tid\n",
    "                t.raise_for_status() #Returns HTTP error object if error occurs\n",
    "\n",
    "                if len(t.json()) > 0: #if request returns nothing, avoids an error\n",
    "                    df = pd.DataFrame(t.json()) #get JSON output into pd DataFrame\n",
    "                    tmp_list.append(df.iloc[:-1]) #append to temp list, omits last row to avoid repeat obs\n",
    "\n",
    "                    tid_last = df['tid'].iloc[-1] #gets the last tid of the previous dataset, new starting point for next loop\n",
    "                    time.sleep(1 + (random.randint(0, 1000) / 1000))#sleep function to avoid API errors, this one moderates time between API requests\n",
    "                    i += 1 #loop counter\n",
    "                    \n",
    "                    if tid != tid_last:\n",
    "                        tid = tid_last\n",
    "                    else:\n",
    "                        raise ValueError('Got furthest back you could')\n",
    "                    \n",
    "                    if i%50 == 0:#multiples of 50\n",
    "                        print(tid)\n",
    "                        \n",
    "                        \n",
    "\n",
    "                    if i%500 == 0: #only for multiples of 500 (get API error around 800 without IP randomization)\n",
    "                        # time.sleep(1200) #sleep for 20 minutes\n",
    "                        print('congrats! you have made ' + str(i) + ' API requests, you insane person.')\n",
    "                        # print(tid)\n",
    "                else:\n",
    "                    gateway.shutdown()\n",
    "                    return None\n",
    "\n",
    "        except ValueError as err:\n",
    "            gateway.shutdown()\n",
    "            print(err)\n",
    "            trades = pd.concat(tmp_list, ignore_index=True) #concatinate all DFs in temp list into one dataframe\n",
    "            trades['Currency'] = str(currency) #append the currency to a column\n",
    "            return trades                \n",
    "                \n",
    "                \n",
    "        except Exception as e:\n",
    "            gateway.shutdown()\n",
    "            print(t.status_code)\n",
    "            print(e.response.text)\n",
    "            print(tid)\n",
    "            trades = pd.concat(tmp_list, ignore_index=True) #concatinate all DFs in temp list into one dataframe\n",
    "            trades['Currency'] = str(currency) #append the currency to a column\n",
    "            return trades\n",
    "        \n",
    "        except KeyboardInterrupt:\n",
    "            gateway.shutdown()\n",
    "            print(tid)\n",
    "            trades = pd.concat(tmp_list, ignore_index=True) #concatinate all DFs in temp list into one dataframe\n",
    "            trades['Currency'] = str(currency) #append the currency to a column\n",
    "            return trades\n",
    "        \n",
    "\n",
    "            \n",
    "        \n",
    "        else:\n",
    "            gateway.shutdown()\n",
    "            trades = pd.concat(tmp_list, ignore_index=True) #concatinate all DFs in temp list into one dataframe\n",
    "            trades['Currency'] = str(currency) #append the currency to a column\n",
    "            return trades\n",
    "\n",
    "    else:\n",
    "        print('Please enter a value for tid_start that is greater than tid_end')"
   ]
  },
  {
   "cell_type": "markdown",
   "metadata": {},
   "source": [
    "## Get list of currencies"
   ]
  },
  {
   "cell_type": "code",
   "execution_count": 3,
   "metadata": {
    "tags": []
   },
   "outputs": [],
   "source": [
    "altcoin = []\n",
    "name = []\n",
    "\n",
    "u = \"https://localbitcoins.com/api/currencies/\"\n",
    "c = requests.get(u)\n",
    "d = c.json()['data']['currencies'] #get to higher level of nesting\n",
    "symbols = list(d.keys()) #get currency symbols\n",
    "\n",
    "for currency in d:\n",
    "    altcoin.append(d[str(currency)]['altcoin'])\n",
    "    name.append(d[str(currency)]['name'])\n",
    "    \n",
    "currencies = pd.DataFrame(zip(symbols, name, altcoin), columns = ['symbol', 'currency', 'altcoin'])"
   ]
  },
  {
   "cell_type": "code",
   "execution_count": 12,
   "metadata": {
    "tags": []
   },
   "outputs": [
    {
     "data": {
      "text/plain": [
       "119"
      ]
     },
     "execution_count": 12,
     "metadata": {},
     "output_type": "execute_result"
    }
   ],
   "source": [
    "symbols = list(currencies['symbol'][currencies['altcoin'] == False]) #Remove other cryptocurrencies\n",
    "symbols.index('RUB')"
   ]
  },
  {
   "cell_type": "code",
   "execution_count": null,
   "metadata": {
    "pycharm": {
     "name": "#%%\n"
    },
    "scrolled": true,
    "tags": []
   },
   "outputs": [
    {
     "name": "stdout",
     "output_type": "stream",
     "text": [
      "RUB\n",
      "True\n",
      "Starting API gateway in 1 regions.\n",
      "Using 1 endpoints with name 'https://localbitcoins.com - IP Rotate API' (0 new).\n",
      "8351773\n"
     ]
    }
   ],
   "source": [
    "symbols = list(currencies['symbol'][currencies['altcoin'] == False]) #Remove other cryptocurrencies\n",
    "currencies_not_included = symbols[0:119]\n",
    "currencies_not_included.append('USD')\n",
    "symbols = [e for e in symbols if e not in currencies_not_included] #Remove symbols not to run\n",
    "start_tid = 56510558\n",
    "end_tid = 6000000 #6000000 corresponds to Feb 2017\n",
    "\n",
    "\n",
    "\n",
    "for currency in symbols:\n",
    "    \n",
    "    start_tid = 56510558\n",
    "    end_tid = 6000000 #6000000 corresponds to Feb 2017\n",
    "    print(currency)\n",
    "    start = timer()\n",
    "\n",
    "    df = get_trades(start_tid, end_tid, currency)\n",
    "    path = '../temporary/trades_' + str(currency) + '.csv'\n",
    "    end = timer()\n",
    "    time = end - start\n",
    "    print(time)\n",
    "    \n",
    "    if df is not None:\n",
    "        df.to_csv(path, index = False)"
   ]
  },
  {
   "cell_type": "code",
   "execution_count": 22,
   "metadata": {},
   "outputs": [
    {
     "data": {
      "text/plain": [
       "True"
      ]
     },
     "execution_count": 22,
     "metadata": {},
     "output_type": "execute_result"
    }
   ],
   "source": [
    "os.path.exists('../temporary/trades_RUB.csv')"
   ]
  },
  {
   "cell_type": "code",
   "execution_count": 5,
   "metadata": {
    "collapsed": false,
    "jupyter": {
     "outputs_hidden": false
    },
    "pycharm": {
     "name": "#%%\n"
    }
   },
   "outputs": [
    {
     "data": {
      "text/plain": [
       "datetime.datetime(2022, 9, 25, 11, 36, 8)"
      ]
     },
     "execution_count": 5,
     "metadata": {},
     "output_type": "execute_result"
    }
   ],
   "source": [
    "datetime.fromtimestamp(1664127368)"
   ]
  },
  {
   "cell_type": "code",
   "execution_count": 7,
   "metadata": {
    "pycharm": {
     "name": "#%%\n"
    },
    "tags": []
   },
   "outputs": [
    {
     "name": "stdout",
     "output_type": "stream",
     "text": [
      "[]\n"
     ]
    }
   ],
   "source": [
    "#See most recent trades\n",
    "t = requests.get('https://localbitcoins.com/bitcoincharts/BTN/trades.json')\n",
    "jprint(t.json())"
   ]
  },
  {
   "cell_type": "code",
   "execution_count": 9,
   "metadata": {},
   "outputs": [
    {
     "data": {
      "text/plain": [
       "0"
      ]
     },
     "execution_count": 9,
     "metadata": {},
     "output_type": "execute_result"
    }
   ],
   "source": [
    "len(t.json())"
   ]
  }
 ],
 "metadata": {
  "kernelspec": {
   "display_name": "Python 3 (ipykernel)",
   "language": "python",
   "name": "python3"
  },
  "language_info": {
   "codemirror_mode": {
    "name": "ipython",
    "version": 3
   },
   "file_extension": ".py",
   "mimetype": "text/x-python",
   "name": "python",
   "nbconvert_exporter": "python",
   "pygments_lexer": "ipython3",
   "version": "3.8.13"
  }
 },
 "nbformat": 4,
 "nbformat_minor": 4
}
