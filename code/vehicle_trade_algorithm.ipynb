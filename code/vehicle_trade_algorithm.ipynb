{
 "cells": [
  {
   "cell_type": "code",
   "execution_count": 1,
   "id": "ef7945a2-cd16-41ea-8cc0-863f2a3a02eb",
   "metadata": {},
   "outputs": [],
   "source": [
    "import pandas as pd\n",
    "import os\n",
    "from collections import Counter\n",
    "pd.set_option(\"display.precision\", 8)"
   ]
  },
  {
   "cell_type": "code",
   "execution_count": 2,
   "id": "e4160e67-ffb3-4530-8088-b52deff45003",
   "metadata": {},
   "outputs": [],
   "source": [
    "trades = pd.read_csv('../temporary/trades_cleaned.csv')"
   ]
  },
  {
   "cell_type": "markdown",
   "id": "661fd045-db01-4826-8059-6ecfe754bc5f",
   "metadata": {
    "tags": []
   },
   "source": [
    "## Get Distribution of Trade Sizes"
   ]
  },
  {
   "cell_type": "code",
   "execution_count": 3,
   "id": "30e7a213-f2da-49e7-aefa-875ed6d69f9b",
   "metadata": {},
   "outputs": [
    {
     "data": {
      "text/html": [
       "<div>\n",
       "<style scoped>\n",
       "    .dataframe tbody tr th:only-of-type {\n",
       "        vertical-align: middle;\n",
       "    }\n",
       "\n",
       "    .dataframe tbody tr th {\n",
       "        vertical-align: top;\n",
       "    }\n",
       "\n",
       "    .dataframe thead th {\n",
       "        text-align: right;\n",
       "    }\n",
       "</style>\n",
       "<table border=\"1\" class=\"dataframe\">\n",
       "  <thead>\n",
       "    <tr style=\"text-align: right;\">\n",
       "      <th></th>\n",
       "      <th>trade_size</th>\n",
       "      <th>frequency</th>\n",
       "    </tr>\n",
       "  </thead>\n",
       "  <tbody>\n",
       "    <tr>\n",
       "      <th>7270706</th>\n",
       "      <td>0.03189204</td>\n",
       "      <td>1</td>\n",
       "    </tr>\n",
       "    <tr>\n",
       "      <th>3353661</th>\n",
       "      <td>0.69139439</td>\n",
       "      <td>1</td>\n",
       "    </tr>\n",
       "    <tr>\n",
       "      <th>5961432</th>\n",
       "      <td>0.07799818</td>\n",
       "      <td>1</td>\n",
       "    </tr>\n",
       "    <tr>\n",
       "      <th>3353663</th>\n",
       "      <td>0.15888787</td>\n",
       "      <td>1</td>\n",
       "    </tr>\n",
       "    <tr>\n",
       "      <th>3353664</th>\n",
       "      <td>0.16832524</td>\n",
       "      <td>1</td>\n",
       "    </tr>\n",
       "    <tr>\n",
       "      <th>...</th>\n",
       "      <td>...</td>\n",
       "      <td>...</td>\n",
       "    </tr>\n",
       "    <tr>\n",
       "      <th>27</th>\n",
       "      <td>0.10000000</td>\n",
       "      <td>15865</td>\n",
       "    </tr>\n",
       "    <tr>\n",
       "      <th>1963</th>\n",
       "      <td>0.00500000</td>\n",
       "      <td>15967</td>\n",
       "    </tr>\n",
       "    <tr>\n",
       "      <th>189</th>\n",
       "      <td>1.00000000</td>\n",
       "      <td>17963</td>\n",
       "    </tr>\n",
       "    <tr>\n",
       "      <th>481</th>\n",
       "      <td>0.01000000</td>\n",
       "      <td>21631</td>\n",
       "    </tr>\n",
       "    <tr>\n",
       "      <th>12280</th>\n",
       "      <td>0.00010000</td>\n",
       "      <td>30010</td>\n",
       "    </tr>\n",
       "  </tbody>\n",
       "</table>\n",
       "<p>7270707 rows × 2 columns</p>\n",
       "</div>"
      ],
      "text/plain": [
       "         trade_size  frequency\n",
       "7270706  0.03189204          1\n",
       "3353661  0.69139439          1\n",
       "5961432  0.07799818          1\n",
       "3353663  0.15888787          1\n",
       "3353664  0.16832524          1\n",
       "...             ...        ...\n",
       "27       0.10000000      15865\n",
       "1963     0.00500000      15967\n",
       "189      1.00000000      17963\n",
       "481      0.01000000      21631\n",
       "12280    0.00010000      30010\n",
       "\n",
       "[7270707 rows x 2 columns]"
      ]
     },
     "execution_count": 3,
     "metadata": {},
     "output_type": "execute_result"
    }
   ],
   "source": [
    "freq = Counter(trades['amount'])\n",
    "trade_sizes = pd.DataFrame(freq.items(), columns = ['trade_size', 'frequency'])\n",
    "trade_sizes.sort_values(by = 'frequency')"
   ]
  },
  {
   "cell_type": "code",
   "execution_count": 14,
   "id": "c306e61c-0748-4418-9a50-c3fe71235eb8",
   "metadata": {},
   "outputs": [],
   "source": [
    "K = len(trades) #gives amount of total trades ~40million\n",
    "trade_sizes['p'] = trade_sizes['frequency']/K #unsure if this is right way to do it, but sum(p) = 1\n"
   ]
  },
  {
   "cell_type": "code",
   "execution_count": 20,
   "id": "2123c445-d4bd-4d92-a57d-04ca5b1a888f",
   "metadata": {},
   "outputs": [
    {
     "data": {
      "text/html": [
       "<div>\n",
       "<style scoped>\n",
       "    .dataframe tbody tr th:only-of-type {\n",
       "        vertical-align: middle;\n",
       "    }\n",
       "\n",
       "    .dataframe tbody tr th {\n",
       "        vertical-align: top;\n",
       "    }\n",
       "\n",
       "    .dataframe thead th {\n",
       "        text-align: right;\n",
       "    }\n",
       "</style>\n",
       "<table border=\"1\" class=\"dataframe\">\n",
       "  <thead>\n",
       "    <tr style=\"text-align: right;\">\n",
       "      <th></th>\n",
       "      <th>trade_size</th>\n",
       "      <th>count</th>\n",
       "      <th>p</th>\n",
       "    </tr>\n",
       "  </thead>\n",
       "  <tbody>\n",
       "    <tr>\n",
       "      <th>775717</th>\n",
       "      <td>0.0020216</td>\n",
       "      <td>33</td>\n",
       "      <td>0.00000082</td>\n",
       "    </tr>\n",
       "  </tbody>\n",
       "</table>\n",
       "</div>"
      ],
      "text/plain": [
       "        trade_size  count           p\n",
       "775717   0.0020216     33  0.00000082"
      ]
     },
     "execution_count": 20,
     "metadata": {},
     "output_type": "execute_result"
    }
   ],
   "source": [
    "trade_sizes[trade_sizes['trade_size'] == 0.00202160]"
   ]
  },
  {
   "cell_type": "code",
   "execution_count": null,
   "id": "084ca6de-73e2-486d-805f-28f4d9447511",
   "metadata": {},
   "outputs": [],
   "source": [
    "def match_trades(data, interval):\n",
    "    data.resample(str(time)).agg({'counter':'sum'})"
   ]
  },
  {
   "cell_type": "code",
   "execution_count": 25,
   "id": "3b397cd7-f217-4a20-91c3-864edaef5f8b",
   "metadata": {},
   "outputs": [
    {
     "data": {
      "text/plain": [
       "0.26768518737623015"
      ]
     },
     "execution_count": 25,
     "metadata": {},
     "output_type": "execute_result"
    }
   ],
   "source": [
    "1.0-(1.0-0.0000763)**4083.0"
   ]
  }
 ],
 "metadata": {
  "kernelspec": {
   "display_name": "Python 3 (ipykernel)",
   "language": "python",
   "name": "python3"
  },
  "language_info": {
   "codemirror_mode": {
    "name": "ipython",
    "version": 3
   },
   "file_extension": ".py",
   "mimetype": "text/x-python",
   "name": "python",
   "nbconvert_exporter": "python",
   "pygments_lexer": "ipython3",
   "version": "3.8.13"
  }
 },
 "nbformat": 4,
 "nbformat_minor": 5
}
