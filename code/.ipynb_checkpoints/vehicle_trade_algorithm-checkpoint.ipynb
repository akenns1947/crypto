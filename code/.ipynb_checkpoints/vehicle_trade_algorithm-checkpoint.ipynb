{
 "cells": [
  {
   "cell_type": "code",
   "execution_count": 6,
   "id": "ef7945a2-cd16-41ea-8cc0-863f2a3a02eb",
   "metadata": {},
   "outputs": [],
   "source": [
    "import pandas as pd\n",
    "import os"
   ]
  },
  {
   "cell_type": "code",
   "execution_count": 13,
   "id": "e4160e67-ffb3-4530-8088-b52deff45003",
   "metadata": {},
   "outputs": [],
   "source": [
    "trades = pd.read_csv('../temporary/trades_cleaned.csv')"
   ]
  },
  {
   "cell_type": "code",
   "execution_count": 14,
   "id": "30e7a213-f2da-49e7-aefa-875ed6d69f9b",
   "metadata": {},
   "outputs": [],
   "source": [
    "pd.set_option(\"display.precision\", 8)"
   ]
  },
  {
   "cell_type": "code",
   "execution_count": 16,
   "id": "2123c445-d4bd-4d92-a57d-04ca5b1a888f",
   "metadata": {},
   "outputs": [
    {
     "data": {
      "text/html": [
       "<div>\n",
       "<style scoped>\n",
       "    .dataframe tbody tr th:only-of-type {\n",
       "        vertical-align: middle;\n",
       "    }\n",
       "\n",
       "    .dataframe tbody tr th {\n",
       "        vertical-align: top;\n",
       "    }\n",
       "\n",
       "    .dataframe thead th {\n",
       "        text-align: right;\n",
       "    }\n",
       "</style>\n",
       "<table border=\"1\" class=\"dataframe\">\n",
       "  <thead>\n",
       "    <tr style=\"text-align: right;\">\n",
       "      <th></th>\n",
       "      <th>date</th>\n",
       "      <th>tid</th>\n",
       "      <th>price</th>\n",
       "      <th>amount</th>\n",
       "      <th>Currency</th>\n",
       "    </tr>\n",
       "  </thead>\n",
       "  <tbody>\n",
       "    <tr>\n",
       "      <th>35957766</th>\n",
       "      <td>2021-03-15 14:42:27</td>\n",
       "      <td>51372237</td>\n",
       "      <td>4509989.63</td>\n",
       "      <td>0.00022173</td>\n",
       "      <td>INR</td>\n",
       "    </tr>\n",
       "    <tr>\n",
       "      <th>35957767</th>\n",
       "      <td>2021-03-15 14:42:27</td>\n",
       "      <td>51372224</td>\n",
       "      <td>42000.04</td>\n",
       "      <td>0.00047619</td>\n",
       "      <td>GBP</td>\n",
       "    </tr>\n",
       "  </tbody>\n",
       "</table>\n",
       "</div>"
      ],
      "text/plain": [
       "                         date       tid       price      amount Currency\n",
       "35957766  2021-03-15 14:42:27  51372237  4509989.63  0.00022173      INR\n",
       "35957767  2021-03-15 14:42:27  51372224    42000.04  0.00047619      GBP"
      ]
     },
     "execution_count": 16,
     "metadata": {},
     "output_type": "execute_result"
    }
   ],
   "source": [
    "trades[trades['date'] == '2021-03-15 14:42:27']"
   ]
  }
 ],
 "metadata": {
  "kernelspec": {
   "display_name": "Python 3 (ipykernel)",
   "language": "python",
   "name": "python3"
  },
  "language_info": {
   "codemirror_mode": {
    "name": "ipython",
    "version": 3
   },
   "file_extension": ".py",
   "mimetype": "text/x-python",
   "name": "python",
   "nbconvert_exporter": "python",
   "pygments_lexer": "ipython3",
   "version": "3.8.13"
  }
 },
 "nbformat": 4,
 "nbformat_minor": 5
}
